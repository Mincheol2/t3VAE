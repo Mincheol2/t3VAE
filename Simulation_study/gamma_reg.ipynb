{
 "cells": [
  {
   "cell_type": "code",
   "execution_count": 1,
   "metadata": {},
   "outputs": [],
   "source": [
    "import torch.nn as nn\n",
    "import torch\n",
    "import numpy as np\n",
    "from torch.nn import functional as F\n",
    "from simul_loss import log_t_normalizing_const, gamma_regularizer"
   ]
  },
  {
   "cell_type": "code",
   "execution_count": 46,
   "metadata": {},
   "outputs": [],
   "source": [
    "def regularizer(mu, logvar, p_dim, q_dim, nu, recon_sigma) : \n",
    "    gamma = -2 / (nu + p_dim + q_dim)\n",
    "    log_tau_base = -p_dim * np.log(recon_sigma) + log_t_normalizing_const(nu, p_dim) - np.log(nu + p_dim - 2) + np.log(nu-2)\n",
    "    \n",
    "        \n",
    "    const_2bar1_term_1 = (1 + q_dim / (nu + p_dim -2))\n",
    "    const_2bar1_term_2_log = - gamma / (1 + gamma) * log_tau_base\n",
    "    const_2bar1 = const_2bar1_term_1 * const_2bar1_term_2_log.exp()\n",
    "\n",
    "    log_tau = 2 / (nu + p_dim - 2 ) * log_tau_base\n",
    "    tau = log_tau.exp()\n",
    "\n",
    "    return gamma_regularizer(mu, logvar, p_dim, const_2bar1, gamma, tau, nu)\n",
    "    "
   ]
  },
  {
   "cell_type": "code",
   "execution_count": 66,
   "metadata": {},
   "outputs": [
    {
     "data": {
      "text/plain": [
       "tensor([ True,  True,  True,  True,  True,  True,  True,  True,  True,  True,\n",
       "         True,  True,  True,  True,  True,  True,  True,  True,  True,  True,\n",
       "         True,  True,  True,  True,  True,  True,  True,  True,  True,  True,\n",
       "         True,  True,  True,  True,  True,  True,  True,  True,  True,  True,\n",
       "         True, False,  True,  True,  True,  True,  True,  True,  True,  True,\n",
       "         True,  True,  True,  True,  True,  True,  True,  True,  True,  True,\n",
       "         True,  True,  True,  True,  True,  True,  True,  True,  True,  True,\n",
       "         True,  True,  True,  True,  True,  True,  True,  True,  True,  True,\n",
       "         True,  True,  True,  True,  True,  True,  True,  True,  True,  True,\n",
       "         True,  True,  True,  True,  True,  True,  True,  True,  True,  True])"
      ]
     },
     "execution_count": 66,
     "metadata": {},
     "output_type": "execute_result"
    }
   ],
   "source": [
    "N  = 10\n",
    "p_dim = 5\n",
    "q_dim = 3\n",
    "nu = 3\n",
    "recon_sigma = 1\n",
    "\n",
    "mu = torch.randn(N, p_dim)\n",
    "logvar = torch.randn_like(mu)\n",
    "\n",
    "recon_sigma_list = [torch.randn(1).exp() for i in range(100)]\n",
    "a = [regularizer(mu, logvar, p_dim, q_dim, nu, recon_sigma) for recon_sigma in recon_sigma_list]\n",
    "# torch.cat()\n",
    "\n",
    "torch.cat([(i > 0).reshape(1) for i in a])"
   ]
  },
  {
   "cell_type": "code",
   "execution_count": null,
   "metadata": {},
   "outputs": [],
   "source": []
  }
 ],
 "metadata": {
  "kernelspec": {
   "display_name": "Python 3",
   "language": "python",
   "name": "python3"
  },
  "language_info": {
   "codemirror_mode": {
    "name": "ipython",
    "version": 3
   },
   "file_extension": ".py",
   "mimetype": "text/x-python",
   "name": "python",
   "nbconvert_exporter": "python",
   "pygments_lexer": "ipython3",
   "version": "3.10.1"
  },
  "orig_nbformat": 4
 },
 "nbformat": 4,
 "nbformat_minor": 2
}
