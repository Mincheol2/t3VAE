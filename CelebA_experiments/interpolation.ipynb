{
 "cells": [
  {
   "attachments": {},
   "cell_type": "markdown",
   "metadata": {},
   "source": [
    "# Latent Space Interpolation\n",
    "\n",
    "- In this notebook file, you can generate interpolation images.\n",
    "\n",
    "- For doing this, trained model is required.\n",
    "\n",
    "- Please make sure the dataset path and the model path."
   ]
  },
  {
   "cell_type": "code",
   "execution_count": null,
   "metadata": {},
   "outputs": [],
   "source": [
    "import numpy as np\n",
    "import torch\n",
    "import os\n",
    "import torchvision\n",
    "import tqdm\n",
    "from models import *\n",
    "from dataloader import *\n",
    "import random"
   ]
  },
  {
   "cell_type": "code",
   "execution_count": null,
   "metadata": {},
   "outputs": [],
   "source": [
    "data_path = './'\n",
    "model_path = './t3VAE_best.pt'"
   ]
  },
  {
   "cell_type": "code",
   "execution_count": null,
   "metadata": {},
   "outputs": [],
   "source": [
    "def make_reproducibility(seed):\n",
    "    random.seed(seed)\n",
    "    np.random.seed(seed)\n",
    "    os.environ[\"PYTHONHASHSEED\"] = str(seed)\n",
    "    torch.manual_seed(seed)\n",
    "    torch.cuda.manual_seed(seed)\n",
    "    torch.backends.cudnn.deterministic = True\n",
    "    torch.backends.cudnn.benchmark = True"
   ]
  },
  {
   "cell_type": "code",
   "execution_count": null,
   "metadata": {},
   "outputs": [],
   "source": [
    "USE_CUDA = torch.cuda.is_available()\n",
    "DEVICE = torch.device(f'cuda' if USE_CUDA else \"cpu\")\n",
    "make_reproducibility(2023)\n",
    "transform = transforms.Compose(\n",
    "        [\n",
    "        transforms.CenterCrop(148),\n",
    "        transforms.Resize(64),\n",
    "        transforms.ToTensor(),\n",
    "        ]\n",
    "    )\n",
    "testset = CustomCelebA(\n",
    "root=data_path,\n",
    "split='test',\n",
    "transform=transform,\n",
    "download=False,\n",
    ")\n",
    "testloader = torch.utils.data.DataLoader(testset, batch_size=16, shuffle=False)\n",
    "\n",
    "print(f'the number of batches : {len(testloader)}')    \n",
    "img_shape = torch.tensor([64,3,64,64]) # img : [B, C, H, W]\n",
    "\n",
    "model = torch.load(model_path)\n",
    "print(f\"load the best model from {model_path}\")\n",
    "test_z = []\n",
    "with torch.no_grad():\n",
    "    tqdm_testloader = tqdm.tqdm(testloader)\n",
    "    for batch_idx, (x, label) in enumerate(tqdm_testloader):\n",
    "        x = x.to(DEVICE)\n",
    "        recon_x, z, mu, logvar = model.forward(x)\n",
    "        test_z.append(z.detach().cpu())\n",
    "\n",
    "    test_z = torch.cat(test_z, dim=0)"
   ]
  },
  {
   "cell_type": "code",
   "execution_count": 38,
   "metadata": {},
   "outputs": [],
   "source": [
    "os.makedirs('./reconstructions',exist_ok=True)\n",
    "result = torch.zeros((8*8,3,64,64))\n",
    "iter = 100\n",
    "with torch.no_grad():\n",
    "    for k in range(iter):\n",
    "        a,b,c,d = np.random.randint(1,len(testset),4)\n",
    "        interpol1 = test_z[a].detach().cpu()\n",
    "        interpol2 = test_z[b].detach().cpu()\n",
    "        interpol3 = test_z[c].detach().cpu()\n",
    "        interpol4 = test_z[d].detach().cpu()\n",
    "\n",
    "        # make 8x8 interpolation images\n",
    "        for i in range(8):\n",
    "            for j in range(8):\n",
    "                int_z1 = interpol1 * (i/7) + interpol2 * (1 - i/7)\n",
    "                int_z2 = interpol3 * (i/7) + interpol4 * (1 - i/7)\n",
    "                int_z = (j/7) * int_z1 + (1-j/7) * int_z2\n",
    "                recon_x, *_ = model.decoder(int_z.to(DEVICE))\n",
    "                result[i*8+j] = recon_x\n",
    "                del int_z # memory free\n",
    "\n",
    "        filename = f'./interpolations/INTERPOL_TEST_{k}.png'\n",
    "        torchvision.utils.save_image(result, filename,normalize=True, nrow=8)    \n"
   ]
  }
 ],
 "metadata": {
  "kernelspec": {
   "display_name": "Python 3",
   "language": "python",
   "name": "python3"
  },
  "language_info": {
   "codemirror_mode": {
    "name": "ipython",
    "version": 3
   },
   "file_extension": ".py",
   "mimetype": "text/x-python",
   "name": "python",
   "nbconvert_exporter": "python",
   "pygments_lexer": "ipython3",
   "version": "3.8.10"
  },
  "orig_nbformat": 4
 },
 "nbformat": 4,
 "nbformat_minor": 2
}
